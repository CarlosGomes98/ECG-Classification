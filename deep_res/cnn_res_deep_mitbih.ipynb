{
 "cells": [
  {
   "cell_type": "markdown",
   "metadata": {},
   "source": [
    "## Deep Residual CNN\n",
    "This model is similar to the one presented in the paper, but extended to be much deeper.\n",
    "\n",
    "The idea is that residual connections act as extra pathways for the gradient during backpropagation.\n",
    "\n",
    "This allows these much deeper models to be more effectively trained.\n",
    "\n",
    "This particular model consists of an initial convolutional layer, followed by 5 main blocks, a final convolution and then a fully connected part. Each of the main blocks is made up of a maxpool block, which lowers the dimensionality of the input, and two identity blocks, which keep it the same. \n",
    "\n",
    "Each of the smaller blocks contain 3 Convolutional layers. This is then fed into a fully connected portion of the network that ends up with a softmax layer for prediction"
   ]
  },
  {
   "cell_type": "markdown",
   "metadata": {},
   "source": [
    "### Run this cell to see the network diagram. Warning, it is quite long\n",
    "![Network](cnn_res_deep.png)"
   ]
  },
  {
   "cell_type": "code",
   "execution_count": 1,
   "metadata": {},
   "outputs": [],
   "source": [
    "import pandas as pd\n",
    "import numpy as np\n",
    "\n",
    "import tensorflow\n",
    "from tensorflow.keras import optimizers, losses, activations, models\n",
    "from tensorflow.keras.callbacks import ModelCheckpoint, EarlyStopping, LearningRateScheduler, ReduceLROnPlateau\n",
    "from tensorflow.keras.layers import Dense, Input, Dropout, Convolution1D, MaxPool1D, GlobalMaxPool1D, GlobalAveragePooling1D, \\\n",
    "    concatenate, Add, Activation\n",
    "from tensorflow.keras.models import load_model\n",
    "from tensorflow.keras.utils import plot_model\n",
    "from sklearn.metrics import f1_score, accuracy_score, confusion_matrix\n",
    "\n",
    "from IPython.display import Image"
   ]
  },
  {
   "cell_type": "markdown",
   "metadata": {},
   "source": [
    "### Import data"
   ]
  },
  {
   "cell_type": "code",
   "execution_count": 2,
   "metadata": {},
   "outputs": [],
   "source": [
    "df_train = pd.read_csv(\"../data/mitbih_train.csv\", header=None)\n",
    "df_train = df_train.sample(frac=1)\n",
    "df_test = pd.read_csv(\"../data/mitbih_test.csv\", header=None)\n",
    "\n",
    "Y = np.array(df_train[187].values).astype(np.int8)\n",
    "X = np.array(df_train[list(range(187))].values)[..., np.newaxis]\n",
    "\n",
    "Y_test = np.array(df_test[187].values).astype(np.int8)\n",
    "X_test = np.array(df_test[list(range(187))].values)[..., np.newaxis]"
   ]
  },
  {
   "cell_type": "markdown",
   "metadata": {},
   "source": [
    "### Load model"
   ]
  },
  {
   "cell_type": "code",
   "execution_count": 2,
   "metadata": {},
   "outputs": [],
   "source": [
    "model = load_model(\"cnn_res_deep_mitbih.h5\")"
   ]
  },
  {
   "cell_type": "code",
   "execution_count": 7,
   "metadata": {},
   "outputs": [],
   "source": [
    "img = plot_model(model, to_file=\"cnn_res_deep.png\", show_shapes=True)"
   ]
  },
  {
   "cell_type": "markdown",
   "metadata": {},
   "source": [
    "### Or ALTERNATIVELY train it"
   ]
  },
  {
   "cell_type": "code",
   "execution_count": 24,
   "metadata": {},
   "outputs": [],
   "source": [
    "def maxpool_block(X, filters, kernel_size=5, dropout=0.1, pool_size=2):\n",
    "    img_1 = Convolution1D(filters, kernel_size=kernel_size, activation='relu', padding='same')(X)\n",
    "    img_1 = Convolution1D(filters, kernel_size=kernel_size, activation='relu', padding='same')(img_1)\n",
    "    img_1 = Convolution1D(filters, kernel_size=kernel_size, activation='relu', padding='same')(img_1)\n",
    "    shortcut = Convolution1D(filters, kernel_size=kernel_size, activation='relu', padding='same')(X)\n",
    "    img_1 = Add()([shortcut, img_1])\n",
    "    img_1 = Activation('relu')(img_1)\n",
    "    img_1 = MaxPool1D(pool_size=2)(img_1)\n",
    "    img_1 = Dropout(rate=dropout)(img_1)\n",
    "    return img_1"
   ]
  },
  {
   "cell_type": "code",
   "execution_count": 25,
   "metadata": {},
   "outputs": [],
   "source": [
    "def identity_block(X, filters, kernel_size=5, dropout=0.1, pool_size=2):\n",
    "    img_1 = Convolution1D(filters, kernel_size=kernel_size, activation='relu', padding='same')(X)\n",
    "    img_1 = Convolution1D(filters, kernel_size=kernel_size, activation='relu', padding='same')(img_1)\n",
    "    img_1 = Convolution1D(filters, kernel_size=kernel_size, activation='relu', padding='same')(img_1)\n",
    "    img_1 = Add()([X, img_1])\n",
    "    img_1 = Activation('relu')(img_1)\n",
    "    img_1 = Dropout(rate=dropout)(img_1)\n",
    "    return img_1"
   ]
  },
  {
   "cell_type": "code",
   "execution_count": 28,
   "metadata": {},
   "outputs": [],
   "source": [
    "def get_model():\n",
    "    nclass = 5\n",
    "    filters = [32, 32, 64, 128, 128]\n",
    "    inp = Input(shape=(187, 1))\n",
    "    img_1 = Convolution1D(32, kernel_size=5, activation=activations.relu, padding=\"same\")(inp)     \n",
    "    for i in range(5):\n",
    "        img_1 = maxpool_block(img_1, filters[i], dropout=0.2)\n",
    "        img_1 = identity_block(img_1, filters[i], dropout=0.2) \n",
    "        img_1 = identity_block(img_1, filters[i], dropout=0.2) \n",
    "    img_1 = Convolution1D(256, kernel_size=3, activation=activations.relu, padding=\"same\")(img_1)  \n",
    "    img_1 = Convolution1D(256, kernel_size=3, activation=activations.relu, padding=\"same\", name=\"final_conv\")(img_1)\n",
    "    img_1 = GlobalMaxPool1D()(img_1)\n",
    "    img_1 = Dropout(rate=0.2)(img_1)\n",
    "\n",
    "    dense_1 = Dense(32, activation=activations.relu, name=\"dense_1\")(img_1)\n",
    "    dense_1 = Dense(32, activation=activations.relu, name=\"dense_2\")(dense_1)\n",
    "    dense_1 = Dense(nclass, activation=activations.softmax, name=\"dense_3_mitbih\")(dense_1)\n",
    "\n",
    "    model = models.Model(inputs=inp, outputs=dense_1)\n",
    "    opt = optimizers.Adam(0.001)\n",
    "\n",
    "    model.compile(optimizer=opt, loss=losses.sparse_categorical_crossentropy, metrics=['acc'])      \n",
    "    model.summary()\n",
    "    return model"
   ]
  },
  {
   "cell_type": "code",
   "execution_count": null,
   "metadata": {},
   "outputs": [],
   "source": [
    "model = get_model()\n",
    "file_path = \"cnn_res_deep_mitbih_retrain.h5\"\n",
    "checkpoint = ModelCheckpoint(file_path, monitor='val_acc', verbose=1, save_best_only=True, mode='max')\n",
    "early = EarlyStopping(monitor=\"val_acc\", mode=\"max\", patience=5, verbose=1)\n",
    "redonplat = ReduceLROnPlateau(monitor=\"val_acc\", mode=\"max\", patience=3, verbose=2)\n",
    "callbacks_list = [checkpoint, early, redonplat]  # early\n",
    "\n",
    "model.fit(X, Y, epochs=1000, verbose=2, callbacks=callbacks_list, validation_split=0.1)\n",
    "model.load_weights(file_path)"
   ]
  },
  {
   "cell_type": "markdown",
   "metadata": {},
   "source": [
    "### Evaluation"
   ]
  },
  {
   "cell_type": "code",
   "execution_count": 17,
   "metadata": {},
   "outputs": [
    {
     "name": "stdout",
     "output_type": "stream",
     "text": [
      "Test f1 score : 0.9226852187699734 \n",
      "Test accuracy score : 0.9869815457701443 \n",
      "[[18047    38    22     3     8]\n",
      " [   92   458     5     1     0]\n",
      " [   36     7  1389    15     1]\n",
      " [   30     0    12   120     0]\n",
      " [   13     0     2     0  1593]]\n"
     ]
    }
   ],
   "source": [
    "pred_test = model.predict(X_test)\n",
    "pred_test = np.argmax(pred_test, axis=-1)\n",
    "\n",
    "f1 = f1_score(Y_test, pred_test, average=\"macro\")\n",
    "\n",
    "print(\"Test f1 score : %s \"% f1)\n",
    "\n",
    "acc = accuracy_score(Y_test, pred_test)\n",
    "\n",
    "print(\"Test accuracy score : %s \"% acc)\n",
    "\n",
    "print(confusion_matrix(\n",
    "    Y_test, pred_test))"
   ]
  }
 ],
 "metadata": {
  "kernelspec": {
   "display_name": "Python 3",
   "language": "python",
   "name": "python3"
  },
  "language_info": {
   "codemirror_mode": {
    "name": "ipython",
    "version": 3
   },
   "file_extension": ".py",
   "mimetype": "text/x-python",
   "name": "python",
   "nbconvert_exporter": "python",
   "pygments_lexer": "ipython3",
   "version": "3.7.6"
  }
 },
 "nbformat": 4,
 "nbformat_minor": 2
}
