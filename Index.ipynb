{
 "cells": [
  {
   "cell_type": "markdown",
   "metadata": {},
   "source": [
    "# Notebook Index for ECG-Classification"
   ]
  },
  {
   "cell_type": "markdown",
   "metadata": {},
   "source": [
    "### 1. [Visualization](Visualization.ipynb)\n",
    "### 2. [MITBIH Baseline](baseline/Baseline_mitbih.ipynb)/[PTBDB Baseline](baseline/Baseline_ptbdb.ipynb)\n",
    "### 3. [MITBIH RNN](rnn/rnn_mitbih.ipynb)/[PTBDB RNN](rnn/rnn_ptbdb.ipynb)\n",
    "### 4. Other models: \n",
    "   #### Embedding + SVM/XGBoost [MITBIH](embedding/Embedding_SVM-RandomForest_mitbih.ipynb) / [PTBDB](embedding/Embedding_SVM-RandomForest_ptbdb.ipynb)\n",
    "   #### Model from \"ECG Heartbeat Classification: A Deep Transferable Representation\" (Baseline + Residual Connections) [MITBIH](paper/cnn_paper_mitbih.ipynb) / [PTBDB](paper/cnn_paper_ptbdb.ipynb)\n",
    "   #### Deep Residual CNN [MITBIH](paper/cnn_paper_mitbih.ipynb) / [PTBDB](paper/cnn_paper_ptbdb.ipynb)\n",
    "   #### Bidirectional RNN [MITBIH](rnn/bilstm_mitbih.ipynb) / [PTBDB](rnn/bilstm_ptbdb.ipynb)\n",
    "### 5. Comparison of embeddings from different models [Comparison](Embedding_comparison.ipynb)\n",
    "### 6. Ensemble [Notebook](Ensemble.ipynb)\n",
    "### 7. Transfer Learning [Notebook](Transfer_learning.ipynb)"
   ]
  }
 ],
 "metadata": {
  "kernelspec": {
   "display_name": "Python [conda env:aml]",
   "language": "python",
   "name": "conda-env-aml-py"
  },
  "language_info": {
   "codemirror_mode": {
    "name": "ipython",
    "version": 3
   },
   "file_extension": ".py",
   "mimetype": "text/x-python",
   "name": "python",
   "nbconvert_exporter": "python",
   "pygments_lexer": "ipython3",
   "version": "3.6.9"
  }
 },
 "nbformat": 4,
 "nbformat_minor": 2
}
