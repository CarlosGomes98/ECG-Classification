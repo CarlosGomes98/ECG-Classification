{
 "cells": [
  {
   "cell_type": "markdown",
   "metadata": {},
   "source": [
    "### Embedding comparison\n",
    "In this notebook, we visualize the different embeddings achieved by each model"
   ]
  },
  {
   "cell_type": "code",
   "execution_count": 5,
   "metadata": {},
   "outputs": [],
   "source": [
    "import pandas as pd\n",
    "import numpy as np\n",
    "\n",
    "import tensorflow\n",
    "from tensorflow.keras import optimizers, losses, activations, Model\n",
    "from tensorflow.keras.callbacks import ModelCheckpoint, EarlyStopping, LearningRateScheduler, ReduceLROnPlateau\n",
    "from tensorflow.keras.layers import Dense, Input, Dropout, GRU, \\\n",
    "    concatenate, Add, Activation\n",
    "from tensorflow.keras.models import load_model\n",
    "from tensorflow.keras.utils import plot_model\n",
    "from sklearn.utils.class_weight import compute_class_weight\n",
    "\n",
    "from sklearn.metrics import f1_score, accuracy_score, roc_auc_score, precision_recall_curve, auc, confusion_matrix\n",
    "from sklearn.model_selection import train_test_split\n",
    "from IPython.display import Image\n",
    "\n",
    "import matplotlib.pyplot as plt\n",
    "from sklearn.manifold import TSNE\n",
    "import matplotlib.patches as mpatches\n",
    "import sklearn.decomposition as decomposition"
   ]
  },
  {
   "cell_type": "markdown",
   "metadata": {},
   "source": [
    "### Models to be loaded and layer to extract the embeddings from"
   ]
  },
  {
   "cell_type": "code",
   "execution_count": 6,
   "metadata": {},
   "outputs": [],
   "source": [
    "models = {'baseline' : 'baseline/baseline_cnn',\n",
    "          'deep_res' : 'deep_res/cnn_res_deep',\n",
    "          'paper'    : 'paper/cnn_paper',\n",
    "          'rnn'      : 'rnn/rnn'}\n",
    "models_embedding_layer = {'baseline': 15,\n",
    "                          'deep_res': 89,\n",
    "                          'paper'   : 29,\n",
    "                          'rnn'     : 3}"
   ]
  },
  {
   "cell_type": "code",
   "execution_count": 7,
   "metadata": {},
   "outputs": [],
   "source": [
    "df_train = pd.read_csv(\"data/mitbih_train.csv\", header=None)\n",
    "df_train = df_train.sample(frac=1)\n",
    "df_test = pd.read_csv(\"data/mitbih_test.csv\", header=None)\n",
    "\n",
    "Y = np.array(df_train[187].values).astype(np.int8)\n",
    "X = np.array(df_train[list(range(187))].values)[..., np.newaxis]\n",
    "\n",
    "Y_test = np.array(df_test[187].values).astype(np.int8)\n",
    "X_test = np.array(df_test[list(range(187))].values)[..., np.newaxis]"
   ]
  },
  {
   "cell_type": "code",
   "execution_count": 8,
   "metadata": {},
   "outputs": [],
   "source": [
    "df_1 = pd.read_csv(\"data/ptbdb_normal.csv\", header=None)\n",
    "df_2 = pd.read_csv(\"data/ptbdb_abnormal.csv\", header=None)\n",
    "df = pd.concat([df_1, df_2])\n",
    "\n",
    "df_train, df_test = train_test_split(df, test_size=0.2, random_state=1337, stratify=df[187])\n",
    "\n",
    "Y_pt = np.array(df_train[187].values).astype(np.int8)\n",
    "X_pt = np.array(df_train[list(range(187))].values)[..., np.newaxis]\n",
    "\n",
    "Y_test_pt = np.array(df_test[187].values).astype(np.int8)\n",
    "X_test_pt = np.array(df_test[list(range(187))].values)[..., np.newaxis]"
   ]
  },
  {
   "cell_type": "markdown",
   "metadata": {},
   "source": [
    "### Extract embeddings, use pca to reduce dimensionality, use t-sne to project to 2D\n",
    "Might take a few minutes. Each run will use a different random subset.\n",
    "\n",
    "We find the embeddings from the deep network especially aesthetic."
   ]
  },
  {
   "cell_type": "code",
   "execution_count": null,
   "metadata": {
    "scrolled": true
   },
   "outputs": [],
   "source": [
    "subset_size = 5000\n",
    "subsets = {'mitbih' : np.random.randint(X.shape[0], size=(subset_size)),\n",
    "           'ptbdb'  : np.random.randint(X_pt.shape[0], size=(subset_size)) }\n",
    "datasets = {'mitbih' : (X, Y),\n",
    "            'ptbdb'  : (X_pt, Y_pt)}\n",
    "fig,a = plt.subplots(2, len(models))\n",
    "fig.set_figheight(10)\n",
    "fig.set_figwidth(20)\n",
    "\n",
    "\n",
    "for col, task in enumerate(['mitbih', 'ptbdb']):\n",
    "    for row, (name, path) in enumerate(models.items()):\n",
    "        if task is 'ptbdb':\n",
    "            colors = ['r', 'b']\n",
    "            label_names = ['Normal', 'Abnormal']\n",
    "        else:\n",
    "            colors = ['r', 'b', 'g', 'purple', 'orange']\n",
    "            label_names = ['Normal', 'S', 'V', 'F', 'Q']\n",
    "        colors_artists = [mpatches.Patch(color=colors[i], label=label_names[i]) for i in range(len(colors))]\n",
    "        \n",
    "        cur_model = load_model(path + '_' + task + '.h5')\n",
    "        final_layer = models_embedding_layer[name]\n",
    "        if name is 'rnn' and task is 'ptbdb':\n",
    "            final_layer -= 1\n",
    "        \n",
    "        embeding_model = Model(inputs=cur_model.inputs, outputs=cur_model.layers[final_layer].output) # get embeddings from last conv layer\n",
    "        embedings = embeding_model.predict(datasets[task][0][subsets[task]])\n",
    "        \n",
    "        X_centered = embedings - embedings.mean(axis=0)\n",
    "        pca = decomposition.PCA(n_components=50)\n",
    "        embedings_reduced = pca.fit_transform(X_centered)\n",
    "        \n",
    "        t_sne = TSNE(n_components=2).fit_transform(embedings_reduced)\n",
    "        \n",
    "        a[col][row].scatter([t_sne[i, 0] for i in range(subset_size)], [t_sne[i, 1] for i in range(subset_size)],\n",
    "                 c=[colors[datasets[task][1][subsets[task][i]]] for i in range(subset_size)], label=[datasets[task][1][subsets[task][i]] for i in range(subset_size)], alpha=0.4)\n",
    "        a[col][row].legend(handles=colors_artists)\n",
    "        a[col][row].set_title(name + \" - \" + task)"
   ]
  }
 ],
 "metadata": {
  "kernelspec": {
   "display_name": "Python [conda env:ECG] *",
   "language": "python",
   "name": "conda-env-ECG-py"
  },
  "language_info": {
   "codemirror_mode": {
    "name": "ipython",
    "version": 3
   },
   "file_extension": ".py",
   "mimetype": "text/x-python",
   "name": "python",
   "nbconvert_exporter": "python",
   "pygments_lexer": "ipython3",
   "version": "3.7.6"
  }
 },
 "nbformat": 4,
 "nbformat_minor": 4
}
